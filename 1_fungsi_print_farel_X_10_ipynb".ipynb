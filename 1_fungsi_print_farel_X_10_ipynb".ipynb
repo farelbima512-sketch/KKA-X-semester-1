{
  "cells": [
    {
      "cell_type": "markdown",
      "metadata": {
        "id": "view-in-github",
        "colab_type": "text"
      },
      "source": [
        "<a href=\"https://colab.research.google.com/github/farelbima512-sketch/KKA-X-semester-1/blob/main/1_fungsi_print_farel_X_10_ipynb%22.ipynb\" target=\"_parent\"><img src=\"https://colab.research.google.com/assets/colab-badge.svg\" alt=\"Open In Colab\"/></a>"
      ]
    },
    {
      "cell_type": "markdown",
      "metadata": {
        "id": "H_xAOfJgJk2t"
      },
      "source": [
        "Menampilkan Teks bebas"
      ]
    },
    {
      "cell_type": "code",
      "execution_count": null,
      "metadata": {
        "colab": {
          "base_uri": "https://localhost:8080/"
        },
        "id": "4aRspvbw7db8",
        "outputId": "65ba69aa-2458-4625-927c-ac2286295c08"
      },
      "outputs": [
        {
          "name": "stdout",
          "output_type": "stream",
          "text": [
            "muhammad farel Syifa bima ananda\n"
          ]
        }
      ],
      "source": [
        "print(\"muhammad farel Syifa bima ananda\")"
      ]
    },
    {
      "cell_type": "markdown",
      "metadata": {
        "id": "pshNmcHrnFnx"
      },
      "source": [
        "Menampilkan Teks bebas"
      ]
    },
    {
      "cell_type": "code",
      "execution_count": null,
      "metadata": {
        "colab": {
          "base_uri": "https://localhost:8080/"
        },
        "id": "eneht4Ek9DEX",
        "outputId": "e4d91143-ec09-4627-9afc-6b0e3ff20c7e"
      },
      "outputs": [
        {
          "name": "stdout",
          "output_type": "stream",
          "text": [
            "ir Jendral wito\n"
          ]
        }
      ],
      "source": [
        "print(\"ir Jendral wito\")"
      ]
    },
    {
      "cell_type": "code",
      "execution_count": null,
      "metadata": {
        "colab": {
          "base_uri": "https://localhost:8080/"
        },
        "id": "IkQZFL8E9FBG",
        "outputId": "1221d42d-18c4-405c-e005-da2afba4c4a6"
      },
      "outputs": [
        {
          "name": "stdout",
          "output_type": "stream",
          "text": [
            "67\n"
          ]
        }
      ],
      "source": [
        "usia =67\n",
        "print(usia)"
      ]
    },
    {
      "cell_type": "code",
      "execution_count": null,
      "metadata": {
        "colab": {
          "base_uri": "https://localhost:8080/"
        },
        "id": "OBWoYihW-4zD",
        "outputId": "c340763c-d785-44f6-b9d9-448465e79b78"
      },
      "outputs": [
        {
          "name": "stdout",
          "output_type": "stream",
          "text": [
            "sherly Surya miranda\n"
          ]
        }
      ],
      "source": [
        "namasaudara = \"sherly Surya miranda\"\n",
        "print (namasaudara)"
      ]
    },
    {
      "cell_type": "code",
      "execution_count": null,
      "metadata": {
        "colab": {
          "base_uri": "https://localhost:8080/"
        },
        "id": "O5aQjYYz-6EN",
        "outputId": "cb4fbaa4-d3a0-440d-b5a4-480fc5277799"
      },
      "outputs": [
        {
          "name": "stdout",
          "output_type": "stream",
          "text": [
            "matematika\n"
          ]
        }
      ],
      "source": [
        "mataplajaranfavorit = \"matematika\"\n",
        "print(mataplajaranfavorit)"
      ]
    },
    {
      "cell_type": "code",
      "execution_count": null,
      "metadata": {
        "colab": {
          "base_uri": "https://localhost:8080/"
        },
        "id": "uRZGjrbfBTPj",
        "outputId": "966cda29-568b-4fe6-d4ea-596f7c57d50f"
      },
      "outputs": [
        {
          "name": "stdout",
          "output_type": "stream",
          "text": [
            "nama saudara: sherly Surya miranda\n"
          ]
        }
      ],
      "source": [
        "print(\"nama saudara: \" + namasaudara)"
      ]
    },
    {
      "cell_type": "code",
      "execution_count": null,
      "metadata": {
        "colab": {
          "base_uri": "https://localhost:8080/"
        },
        "id": "PMlZYfFwD1pw",
        "outputId": "3cfd14fd-f001-4a4d-86fd-03d442e9889f"
      },
      "outputs": [
        {
          "name": "stdout",
          "output_type": "stream",
          "text": [
            "mataplajaranfavorit: matematika\n"
          ]
        }
      ],
      "source": [
        "print(\"mataplajaranfavorit: \" + mataplajaranfavorit)"
      ]
    },
    {
      "cell_type": "code",
      "execution_count": null,
      "metadata": {
        "colab": {
          "base_uri": "https://localhost:8080/"
        },
        "id": "vJh6qiMr0WLK",
        "outputId": "58f19151-f95d-4a6b-c45c-5eae5a93a126"
      },
      "outputs": [
        {
          "name": "stdout",
          "output_type": "stream",
          "text": [
            "nama panggilan siswa tersebut adalah farel\n"
          ]
        }
      ],
      "source": [
        "nama_panggilan_siswa= \"farel\"\n",
        "print (\"nama panggilan siswa tersebut adalah\", nama_panggilan_siswa)"
      ]
    },
    {
      "cell_type": "code",
      "execution_count": null,
      "metadata": {
        "colab": {
          "base_uri": "https://localhost:8080/"
        },
        "id": "6aLtT5qKBEGj",
        "outputId": "da051007-bf77-4ab6-f638-c16ece4d8d5d"
      },
      "outputs": [
        {
          "name": "stdout",
          "output_type": "stream",
          "text": [
            "nama panggilan tersebut adalah farel loh\n"
          ]
        }
      ],
      "source": [
        "print(f\"nama panggilan tersebut adalah {nama_panggilan_siswa} loh\")"
      ]
    },
    {
      "cell_type": "code",
      "execution_count": null,
      "metadata": {
        "colab": {
          "base_uri": "https://localhost:8080/"
        },
        "id": "ZGnsw4hdEaMD",
        "outputId": "df0b6c7b-5e6f-4b96-9440-b8801bf22a22"
      },
      "outputs": [
        {
          "name": "stdout",
          "output_type": "stream",
          "text": [
            "Nama: farel ganteng\n",
            "Kelas: x.10\n",
            "No absen: 16\n"
          ]
        }
      ],
      "source": [
        "print(\"Nama: farel ganteng\")\n",
        "print(\"Kelas: x.10\")\n",
        "print(\"No absen: 16\")"
      ]
    },
    {
      "cell_type": "code",
      "execution_count": null,
      "metadata": {
        "colab": {
          "base_uri": "https://localhost:8080/"
        },
        "id": "0cNJg8y_E_mx",
        "outputId": "acf44069-ea80-4640-9e52-9614d58ad8dd"
      },
      "outputs": [
        {
          "name": "stdout",
          "output_type": "stream",
          "text": [
            "Nama\t\t:farel ganteng\n",
            "Kelas\t\t:x.10\n",
            "No absen\t:16\n"
          ]
        }
      ],
      "source": [
        "print(\"Nama\\t\\t:farel ganteng\\nKelas\\t\\t:x.10\\nNo absen\\t:16\")"
      ]
    },
    {
      "cell_type": "code",
      "execution_count": null,
      "metadata": {
        "colab": {
          "base_uri": "https://localhost:8080/"
        },
        "id": "ACp3CU2W5DRQ",
        "outputId": "e30cfa37-b707-4013-b03e-5910679aa9b2"
      },
      "outputs": [
        {
          "name": "stdout",
          "output_type": "stream",
          "text": [
            "farel\n"
          ]
        }
      ],
      "source": [
        "nama =\"farel\"\n",
        "print(nama)"
      ]
    },
    {
      "cell_type": "code",
      "execution_count": null,
      "metadata": {
        "colab": {
          "base_uri": "https://localhost:8080/"
        },
        "id": "uRrpYziM5PN7",
        "outputId": "78e84286-0805-46aa-8ad6-10741cf0f726"
      },
      "outputs": [
        {
          "name": "stdout",
          "output_type": "stream",
          "text": [
            "15\n"
          ]
        }
      ],
      "source": [
        "usia =\"15\"\n",
        "print(usia)"
      ]
    },
    {
      "cell_type": "code",
      "execution_count": null,
      "metadata": {
        "colab": {
          "base_uri": "https://localhost:8080/"
        },
        "id": "P4iN01vX2HsV",
        "outputId": "b2b1da5b-6c07-424b-c45a-1c855d925727"
      },
      "outputs": [
        {
          "name": "stdout",
          "output_type": "stream",
          "text": [
            "Halo perkenalkan nama saya farel usia saya 15 tahun.\n"
          ]
        }
      ],
      "source": [
        "print(\"Halo perkenalkan nama saya\", nama, \"usia saya\", usia,\"tahun.\")"
      ]
    },
    {
      "cell_type": "code",
      "execution_count": null,
      "metadata": {
        "colab": {
          "base_uri": "https://localhost:8080/"
        },
        "id": "kljMZan650G7",
        "outputId": "76471818-2c49-47ba-d342-d328375a5b8f"
      },
      "outputs": [
        {
          "name": "stdout",
          "output_type": "stream",
          "text": [
            "Halo perkenalkan nama saya farel. usia saya 15tahun.\n"
          ]
        }
      ],
      "source": [
        "print(\"Halo perkenalkan nama saya \" + nama+\". usia saya \"+ str(usia)+\"tahun.\")"
      ]
    },
    {
      "cell_type": "code",
      "execution_count": null,
      "metadata": {
        "colab": {
          "base_uri": "https://localhost:8080/"
        },
        "id": "i7gVgcsKEEbL",
        "outputId": "c1f491c5-db75-41e5-f91d-730d0aba2c85"
      },
      "outputs": [
        {
          "name": "stdout",
          "output_type": "stream",
          "text": [
            "Halo nama saya farel. Usia saya 15 tahun\n"
          ]
        }
      ],
      "source": [
        "print(f\"Halo nama saya {nama}. Usia saya {usia} tahun\")"
      ]
    },
    {
      "cell_type": "code",
      "execution_count": null,
      "metadata": {
        "colab": {
          "base_uri": "https://localhost:8080/",
          "height": 141
        },
        "id": "ixxDp87ZHPy5",
        "outputId": "6f385420-f667-4153-931a-259fe568692d"
      },
      "outputs": [
        {
          "ename": "SyntaxError",
          "evalue": "unterminated string literal (detected at line 1) (ipython-input-2960117418.py, line 1)",
          "output_type": "error",
          "traceback": [
            "\u001b[0;36m  File \u001b[0;32m\"/tmp/ipython-input-2960117418.py\"\u001b[0;36m, line \u001b[0;32m1\u001b[0m\n\u001b[0;31m    print(\"nama:farel\u001b[0m\n\u001b[0m          ^\u001b[0m\n\u001b[0;31mSyntaxError\u001b[0m\u001b[0;31m:\u001b[0m unterminated string literal (detected at line 1)\n"
          ]
        }
      ],
      "source": [
        "print(\"nama:farel\n",
        "       Kelas:x.10\n",
        "       No absen:16\")"
      ]
    },
    {
      "cell_type": "code",
      "execution_count": null,
      "metadata": {
        "colab": {
          "base_uri": "https://localhost:8080/"
        },
        "id": "OWA4XOOiHgxQ",
        "outputId": "8848af33-5783-46cb-d74a-9370b80a7648"
      },
      "outputs": [
        {
          "name": "stdout",
          "output_type": "stream",
          "text": [
            "Nama\t\t:farel\n",
            "Kelas\t\t:x.10\n",
            "No absen\t:16\n"
          ]
        }
      ],
      "source": [
        "print(\"Nama\\t\\t:farel\\nKelas\\t\\t:x.10\\nNo absen\\t:16\")"
      ]
    },
    {
      "cell_type": "code",
      "execution_count": null,
      "metadata": {
        "colab": {
          "base_uri": "https://localhost:8080/"
        },
        "id": "WwCnVliT4xmS",
        "outputId": "d5921856-694f-450f-ca1f-0483a73c25d1"
      },
      "outputs": [
        {
          "name": "stdout",
          "output_type": "stream",
          "text": [
            "Ainun\n"
          ]
        }
      ],
      "source": [
        "print('Ainun')"
      ]
    },
    {
      "cell_type": "code",
      "execution_count": null,
      "metadata": {
        "colab": {
          "base_uri": "https://localhost:8080/",
          "height": 141
        },
        "id": "3pK-r7dt5AZf",
        "outputId": "0cb956c9-d4d0-4e3d-f963-e0bd9ee80a97"
      },
      "outputs": [
        {
          "ename": "SyntaxError",
          "evalue": "unterminated string literal (detected at line 1) (ipython-input-3942694711.py, line 1)",
          "output_type": "error",
          "traceback": [
            "\u001b[0;36m  File \u001b[0;32m\"/tmp/ipython-input-3942694711.py\"\u001b[0;36m, line \u001b[0;32m1\u001b[0m\n\u001b[0;31m    Print('A'inun')\u001b[0m\n\u001b[0m                 ^\u001b[0m\n\u001b[0;31mSyntaxError\u001b[0m\u001b[0;31m:\u001b[0m unterminated string literal (detected at line 1)\n"
          ]
        }
      ],
      "source": [
        "Print('A'inun')"
      ]
    },
    {
      "cell_type": "code",
      "execution_count": null,
      "metadata": {
        "colab": {
          "base_uri": "https://localhost:8080/"
        },
        "id": "M0gbbT2e5FM6",
        "outputId": "7f5cb3f2-755f-4723-9a91-c0f85bde4457"
      },
      "outputs": [
        {
          "name": "stdout",
          "output_type": "stream",
          "text": [
            "A'inun\n"
          ]
        }
      ],
      "source": [
        "print(\"A'inun\")"
      ]
    },
    {
      "cell_type": "code",
      "execution_count": null,
      "metadata": {
        "colab": {
          "base_uri": "https://localhost:8080/"
        },
        "id": "Uk6RzawT5KO5",
        "outputId": "b263289f-1f0e-4649-a31d-e276547215fb"
      },
      "outputs": [
        {
          "name": "stdout",
          "output_type": "stream",
          "text": [
            "A'inun\n"
          ]
        }
      ],
      "source": [
        "print('A\\'inun')"
      ]
    },
    {
      "cell_type": "code",
      "execution_count": null,
      "metadata": {
        "colab": {
          "base_uri": "https://localhost:8080/"
        },
        "id": "Qq51zqL95VxE",
        "outputId": "45db20e7-b820-4492-cafd-ec1e098689fc"
      },
      "outputs": [
        {
          "name": "stdout",
          "output_type": "stream",
          "text": [
            "Bu Shinta berkata,\"makan sosis so nice\"\n"
          ]
        }
      ],
      "source": [
        "print(\"Bu Shinta berkata,\\\"makan sosis so nice\\\"\")"
      ]
    },
    {
      "cell_type": "code",
      "execution_count": null,
      "metadata": {
        "colab": {
          "base_uri": "https://localhost:8080/"
        },
        "id": "H8vgX0HV5k-J",
        "outputId": "97a7205d-bd8b-4ed3-8780-8dee62729011"
      },
      "outputs": [
        {
          "name": "stdout",
          "output_type": "stream",
          "text": [
            "Bu Shinta berkata,\"makan sosis so nice.\"\n"
          ]
        }
      ],
      "source": [
        "print('Bu Shinta berkata,\"makan sosis so nice.\"')"
      ]
    },
    {
      "cell_type": "code",
      "execution_count": null,
      "metadata": {
        "colab": {
          "base_uri": "https://localhost:8080/"
        },
        "id": "T1CksAhq5y2I",
        "outputId": "60c33239-0b39-4026-a7e4-1ec3fb30629c"
      },
      "outputs": [
        {
          "name": "stdout",
          "output_type": "stream",
          "text": [
            "Simpan file di local disk D\\MAN DEMAK\\kka\n"
          ]
        }
      ],
      "source": [
        "print(\"Simpan file di local disk D\\\\MAN DEMAK\\\\kka\")"
      ]
    },
    {
      "cell_type": "markdown",
      "metadata": {
        "id": "5vgCx6ZoGMKT"
      },
      "source": [
        "Parameter fungsi print"
      ]
    },
    {
      "cell_type": "code",
      "execution_count": null,
      "metadata": {
        "id": "xbEzimxMFOqL"
      },
      "outputs": [],
      "source": [
        "Namasiswa1=\"ridju\"\n",
        "Namasiswa2=\"Rafa\""
      ]
    },
    {
      "cell_type": "code",
      "execution_count": null,
      "metadata": {
        "colab": {
          "base_uri": "https://localhost:8080/"
        },
        "id": "xW8PH2edG268",
        "outputId": "aa7accb4-17f1-497b-eeb5-670bba3aab28"
      },
      "outputs": [
        {
          "name": "stdout",
          "output_type": "stream",
          "text": [
            "ridju Rafa\n"
          ]
        }
      ],
      "source": [
        "print(Namasiswa1,Namasiswa2)"
      ]
    },
    {
      "cell_type": "code",
      "execution_count": null,
      "metadata": {
        "colab": {
          "base_uri": "https://localhost:8080/"
        },
        "id": "7FXciGN3HAfb",
        "outputId": "678028fd-0c73-438d-dfde-19bf1493d753"
      },
      "outputs": [
        {
          "name": "stdout",
          "output_type": "stream",
          "text": [
            "ridju-Rafa\n"
          ]
        }
      ],
      "source": [
        "print(Namasiswa1,Namasiswa2, sep=\"-\")"
      ]
    },
    {
      "cell_type": "code",
      "execution_count": null,
      "metadata": {
        "colab": {
          "background_save": true,
          "base_uri": "https://localhost:8080/",
          "height": 283
        },
        "id": "qdALM62zHhHS",
        "outputId": "d3622111-110c-4514-c984-dd08eb3bae0b"
      },
      "outputs": [
        {
          "name": "stdout",
          "output_type": "stream",
          "text": [
            "ridju*Rafa*ridju\n"
          ]
        }
      ],
      "source": [
        "print(Namasiswa1,Namasiswa2,Namasiswa1, sep=\"*\")"
      ]
    },
    {
      "cell_type": "code",
      "execution_count": null,
      "metadata": {
        "colab": {
          "background_save": true,
          "base_uri": "https://localhost:8080/"
        },
        "id": "mFfT6_1XLVep",
        "outputId": "be6f6029-9a8d-4d8a-8b04-dffc0725a721"
      },
      "outputs": [
        {
          "name": "stdout",
          "output_type": "stream",
          "text": [
            "ridju*Rafa\n"
          ]
        }
      ],
      "source": [
        "print(Namasiswa1, end=\"*\")\n",
        "print(Namasiswa2)"
      ]
    },
    {
      "cell_type": "code",
      "execution_count": null,
      "metadata": {
        "id": "W_jC3vta2-_1"
      },
      "outputs": [],
      "source": []
    },
    {
      "cell_type": "markdown",
      "metadata": {
        "id": "oOE3GgvX2jl_"
      },
      "source": []
    }
  ],
  "metadata": {
    "colab": {
      "provenance": [],
      "authorship_tag": "ABX9TyP54mFxTSHVx2dW9sCtubGn",
      "include_colab_link": true
    },
    "kernelspec": {
      "display_name": "Python 3",
      "name": "python3"
    },
    "language_info": {
      "name": "python"
    }
  },
  "nbformat": 4,
  "nbformat_minor": 0
}